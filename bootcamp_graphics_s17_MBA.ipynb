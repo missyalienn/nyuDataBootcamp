{
 "cells": [
  {
   "cell_type": "markdown",
   "metadata": {},
   "source": [
    "\n",
    "# Python graphics:  Matplotlib fundamentals\n",
    "\n",
    "We illustrate three approaches to graphing data with Python's Matplotlib package:    \n",
    "\n",
    "* [Approach 1](#Approach-1:--Apply-plot-methods-to-dataframes):  Apply a `plot()` method to a dataframe\n",
    "* [Approach 2](#Approach-2:--plt.plot):  Use the `plot(x,y)` function from `matplotlib.pyplot`\n",
    "* [Approach 3](#Approach-3:--Create-figure-objects-and-apply-methods):  Create a figure object and apply methods to it\n",
    "\n",
    "The last one is the least intuitive but also the most useful.  We work up to it gradually.  This [book chapter](https://davebackus.gitbooks.io/test/content/graphs1.html) covers the same material with more words and fewer pictures.  "
   ]
  },
  {
   "cell_type": "markdown",
   "metadata": {},
   "source": [
    "## Reminders\n",
    "\n",
    "* **Packages**:  collections of tools that we access with `import` statements\n",
    "* **Pandas**:  Python's data package \n",
    "* **Objects** and **methods**:  we apply the method `justdoit` to the object `x` with `x.justdoit`\n",
    "* **Dataframe**:  a spreadsheet-like data structure \n",
    "* **Series**:  a single variable \n",
    "* **Jupyter**:  an environment for combining code with text and graphics "
   ]
  },
  {
   "cell_type": "markdown",
   "metadata": {},
   "source": [
    "## Preliminaries \n",
    "\n",
    "### Jupyter \n",
    "\n",
    "Look around, what do you see?  Check out the **menubar** at the top:  File, Edit, etc.  Also the **toolbar** below it.  Click on Help -> User Interface Tour for a tour of the landscape.  \n",
    "\n",
    "The **cells** below come in two forms.  Those labeled Code (see the menu in the toolbar) are Python code.  Those labeled Markdown are text.  \n",
    "\n",
    "### Markdown \n",
    "\n",
    "Simplified version of **html** (the language used to construct basic websites). Best way to learn about its rules is by clicking on a cell that contains text and try to imitate what you see. (More about it later and in the book.) "
   ]
  },
  {
   "cell_type": "markdown",
   "metadata": {},
   "source": [
    "### Import packages\n"
   ]
  },
  {
   "cell_type": "code",
   "execution_count": 1,
   "metadata": {
    "collapsed": false
   },
   "outputs": [],
   "source": [
    "# make plots show up in notebook\n",
    "%matplotlib inline                     \n",
    "\n",
    "import pandas as pd                    # data package\n",
    "import matplotlib.pyplot as plt        # pyplot module"
   ]
  },
  {
   "cell_type": "markdown",
   "metadata": {},
   "source": [
    "**Comment.**  When you run the code cell above, its output appears below it.  \n",
    "\n",
    "**Exercise.** Enter `pd.read_csv?` in the empty cell below.  Run the cell (Cell at the top, or shift-enter).  Do you see the documentation?  This is the Jupyter version of help in Spyder's IPython console.  "
   ]
  },
  {
   "cell_type": "code",
   "execution_count": 8,
   "metadata": {
    "collapsed": false
   },
   "outputs": [],
   "source": [
    "pd.read_csv?"
   ]
  },
  {
   "cell_type": "markdown",
   "metadata": {},
   "source": [
    "### Create dataframes to play with \n",
    "\n",
    "* US GDP and consumption \n",
    "* World Bank GDP per capita for several countries \n",
    "* Fama-French equity returns "
   ]
  },
  {
   "cell_type": "markdown",
   "metadata": {},
   "source": [
    "## Data input 3:  APIs\n",
    "\n",
    "Last time we saw how to read \n",
    "* internet files using links \n",
    "* files on your computer. \n",
    "\n",
    "The `pandas` method was `read_csv()` and `read_excel()`. A third way is through APIs.\n",
    "\n",
    "APIs are \"application program interfaces\".  A dataset with an API allows access through some method other than a spreadsheet.  \n",
    "\n",
    "The API is the set of rules for accessing the data. People have written easy-to-use code to access the APIs.  \n",
    "\n",
    "The Pandas developers have created what they call a set of [Remote Data Access tools](https://pandas-datareader.readthedocs.io/en/latest/remote_data.html) and have put them into a package called `pandas_datareader`. \n",
    "\n",
    "### FRED. \n",
    "\n",
    "The St Louis Fed has put together a large collection of time series data that they refer to as [FRED](https://research.stlouisfed.org/fred2/):  Federal Reserve Economic Data.  They started with the US, but now include data for many countries.\n",
    "\n",
    "The Pandas docs describe how to access FRED.  Here's an example that reads in quarterly data for US real GDP and real consumption.\n",
    "\n",
    "* The variable `codes`  -- not to be confused with \"code\" -- consists of FRED variable codes.  Go to [FRED](https://research.stlouisfed.org/fred2/), use the search box to find the series you want, and look for the variable code at the end of the url in your browser.\n",
    "* The variables `start` and `end` contain dates in (year, month, day) format using `datetime.datetime`.\n"
   ]
  },
  {
   "cell_type": "code",
   "execution_count": 2,
   "metadata": {
    "collapsed": false
   },
   "outputs": [
    {
     "name": "stdout",
     "output_type": "stream",
     "text": [
      "                gdp     pce\n",
      "DATE                       \n",
      "2003-01-01  13271.1  8867.6\n",
      "2004-01-01  13773.5  9208.2\n",
      "2005-01-01  14234.2  9531.8\n"
     ]
    }
   ],
   "source": [
    "from pandas_datareader import data\n",
    "import datetime as dt                           # package to handle dates\n",
    "\n",
    "codes = ['GDPCA', 'PCECCA']                     # real GDP, real consumption (from FRED website)\n",
    "\n",
    "start = dt.datetime(2003, 1, 1)                 # start date\n",
    "end = dt.datetime(2013, 1, 1)                   # end date\n",
    "\n",
    "us = data.DataReader(codes, 'fred', start, end)\n",
    "\n",
    "us.columns = ['gdp', 'pce']                     #us.set_index (we don't need it now) \n",
    "\n",
    "print(us.head(3))"
   ]
  },
  {
   "cell_type": "markdown",
   "metadata": {},
   "source": [
    "### World Bank. \n",
    "\n",
    "The World Bank's [databank](http://data.worldbank.org/) covers economic and social statistics for most countries in the world.  \n",
    "\n",
    "Variables include GDP, population, education, and infrastructure.  Here's an example:"
   ]
  },
  {
   "cell_type": "code",
   "execution_count": null,
   "metadata": {
    "collapsed": false
   },
   "outputs": [],
   "source": [
    "from pandas_datareader import wb\n",
    "\n",
    "iso_codes = ['BRA', 'CHN', 'FRA', 'IND', 'JPN', 'MEX', 'USA']\n",
    "var = ['NY.GDP.PCAP.PP.KD']\n",
    "year = 2013\n",
    "\n",
    "wbdf = wb.download(indicator=var, country=iso_codes, start=year, end=year)\n",
    "print(wbdf)"
   ]
  },
  {
   "cell_type": "code",
   "execution_count": null,
   "metadata": {
    "collapsed": false
   },
   "outputs": [],
   "source": [
    "# Change the index for iso codes\n",
    "wbdf.index = iso_codes\n",
    "\n",
    "# Add country variable \n",
    "country = ['Brazil', 'China', 'France', 'India', 'Japan', 'Mexico', 'United States']\n",
    "wbdf['country'] = country\n",
    "\n",
    "# Rename the variables\n",
    "wbdf.columns = ['gdppc', 'country']\n",
    "\n",
    "# set the display precision in terms of decimal places\n",
    "pd.set_option('precision', 2)\n",
    "wbdf['gdppc'] = wbdf['gdppc']/1000\n",
    "\n",
    "print(wbdf)"
   ]
  },
  {
   "cell_type": "markdown",
   "metadata": {},
   "source": [
    "**Comment.**  In the previous cell, we used the `print()` function to produce output.  Here we just put the name of the dataframe.  The latter displays the dataframe -- and formats it nicely -- **if it's the last statement in the cell**.  "
   ]
  },
  {
   "cell_type": "markdown",
   "metadata": {},
   "source": [
    "### Fama-French. \n",
    "\n",
    "* Gene Fama and Ken French post lots of data on equity returns on [Ken French’s website](http://mba.tuck.dartmouth.edu/pages/faculty/ken.french/data_library.html).  \n",
    "* The data are zipped text files, which we can easily read into Excel OR  \n",
    "* use the Pandas tool which is better. "
   ]
  },
  {
   "cell_type": "code",
   "execution_count": 29,
   "metadata": {
    "collapsed": false
   },
   "outputs": [
    {
     "name": "stdout",
     "output_type": "stream",
     "text": [
      "{0:          Mkt-RF   SMB   HML    RF\n",
      "Date                             \n",
      "2010-01   -3.36  0.37  0.30  0.00\n",
      "2010-02    3.40  1.19  3.18  0.00\n",
      "2010-03    6.31  1.49  2.15  0.01\n",
      "2010-04    2.00  4.99  2.83  0.01\n",
      "2010-05   -7.89  0.00 -2.41  0.01\n",
      "2010-06   -5.56 -2.01 -4.52  0.01\n",
      "2010-07    6.93  0.21 -0.21  0.01\n",
      "2010-08   -4.77 -2.99 -1.96  0.01\n",
      "2010-09    9.54  3.92 -3.12  0.01\n",
      "2010-10    3.88  1.14 -2.52  0.01\n",
      "2010-11    0.60  3.68 -0.91  0.01\n",
      "2010-12    6.82  0.68  3.78  0.01\n",
      "2011-01    1.99 -2.48  0.82  0.01\n",
      "2011-02    3.49  1.53  1.10  0.01\n",
      "2011-03    0.45  2.58 -1.57  0.01\n",
      "2011-04    2.90 -0.31 -2.53  0.00\n",
      "2011-05   -1.27 -0.72 -2.09  0.00\n",
      "2011-06   -1.75 -0.20 -0.33  0.00\n",
      "2011-07   -2.36 -1.34 -1.16  0.00\n",
      "2011-08   -5.99 -3.03 -2.40  0.01\n",
      "2011-09   -7.59 -3.54 -1.37  0.00\n",
      "2011-10   11.35  3.44 -0.22  0.00\n",
      "2011-11   -0.28 -0.18 -0.42  0.00\n",
      "2011-12    0.74 -0.67  1.71  0.00\n",
      "2012-01    5.05  2.15 -1.11  0.00\n",
      "2012-02    4.42 -1.72  0.11  0.00\n",
      "2012-03    3.11 -0.63  0.89  0.00\n",
      "2012-04   -0.85 -0.54 -0.46  0.00\n",
      "2012-05   -6.19  0.00 -0.52  0.01\n",
      "2012-06    3.89  0.79  0.41  0.00\n",
      "...         ...   ...   ...   ...\n",
      "2014-10    2.52  4.28 -1.68  0.00\n",
      "2014-11    2.55 -2.05 -2.98  0.00\n",
      "2014-12   -0.06  2.59  2.12  0.00\n",
      "2015-01   -3.11 -0.51 -3.47  0.00\n",
      "2015-02    6.13  0.51 -1.73  0.00\n",
      "2015-03   -1.12  3.07 -0.45  0.00\n",
      "2015-04    0.59 -3.01  1.84  0.00\n",
      "2015-05    1.36  0.90 -1.32  0.00\n",
      "2015-06   -1.53  2.85 -0.80  0.00\n",
      "2015-07    1.54 -4.07 -4.21  0.00\n",
      "2015-08   -6.04  0.52  2.71  0.00\n",
      "2015-09   -3.08 -2.61  0.58  0.00\n",
      "2015-10    7.75 -1.93 -0.11  0.00\n",
      "2015-11    0.56  3.62 -0.57  0.00\n",
      "2015-12   -2.17 -2.81 -2.46  0.01\n",
      "2016-01   -5.77 -3.36  2.26  0.01\n",
      "2016-02   -0.07  0.83 -0.48  0.02\n",
      "2016-03    6.96  0.86  1.11  0.02\n",
      "2016-04    0.92  0.68  3.25  0.01\n",
      "2016-05    1.78 -0.27 -1.79  0.01\n",
      "2016-06   -0.05  0.61 -1.49  0.02\n",
      "2016-07    3.95  2.90 -0.98  0.02\n",
      "2016-08    0.50  0.94  3.18  0.02\n",
      "2016-09    0.25  2.00 -1.34  0.02\n",
      "2016-10   -2.02 -4.41  4.15  0.02\n",
      "2016-11    4.86  5.68  8.44  0.01\n",
      "2016-12    1.81 -0.04  3.52  0.03\n",
      "2017-01    1.94 -1.00 -2.69  0.04\n",
      "2017-02    3.57 -1.79 -1.80  0.04\n",
      "2017-03    0.17  1.13 -3.32  0.03\n",
      "\n",
      "[87 rows x 4 columns], 1:       Mkt-RF    SMB    HML    RF\n",
      "Date                            \n",
      "2010   17.37  13.77  -5.17  0.12\n",
      "2011    0.44  -6.04  -8.41  0.04\n",
      "2012   16.28  -1.22   9.89  0.06\n",
      "2013   35.20   7.35   1.54  0.02\n",
      "2014   11.70  -7.75  -1.65  0.02\n",
      "2015    0.07  -3.74  -9.48  0.02\n",
      "2016   13.30   6.66  23.33  0.20, 'DESCR': 'F-F Research Data factors\\n-------------------------\\n\\nThis file was created by CMPT_ME_BEME_RETS using the 201703 CRSP database. The 1-month TBill return is from Ibbotson and Associates, Inc. Copyright 2017 Kenneth R. French\\n\\n  0 : (87 rows x 4 cols)\\n  1 : Annual Factors: January-December (7 rows x 4 cols)'}\n"
     ]
    }
   ],
   "source": [
    "ff = data.DataReader('F-F_Research_Data_factors', 'famafrench')\n",
    "print(ff)"
   ]
  },
  {
   "cell_type": "markdown",
   "metadata": {},
   "source": [
    "What is this object?"
   ]
  },
  {
   "cell_type": "code",
   "execution_count": 30,
   "metadata": {
    "collapsed": false
   },
   "outputs": [
    {
     "data": {
      "text/plain": [
       "dict"
      ]
     },
     "execution_count": 30,
     "metadata": {},
     "output_type": "execute_result"
    }
   ],
   "source": [
    "type(ff)"
   ]
  },
  {
   "cell_type": "markdown",
   "metadata": {},
   "source": [
    "Learn about the structure"
   ]
  },
  {
   "cell_type": "code",
   "execution_count": null,
   "metadata": {
    "collapsed": false
   },
   "outputs": [],
   "source": [
    "ff.keys()"
   ]
  },
  {
   "cell_type": "code",
   "execution_count": null,
   "metadata": {
    "collapsed": false
   },
   "outputs": [],
   "source": [
    "ff['DESCR']"
   ]
  },
  {
   "cell_type": "code",
   "execution_count": null,
   "metadata": {
    "collapsed": false
   },
   "outputs": [],
   "source": [
    "ff = ff[1]\n",
    "ff"
   ]
  },
  {
   "cell_type": "code",
   "execution_count": 36,
   "metadata": {
    "collapsed": false
   },
   "outputs": [
    {
     "ename": "AttributeError",
     "evalue": "'dict' object has no attribute 'head'",
     "output_type": "error",
     "traceback": [
      "\u001b[0;31m---------------------------------------------------------------------------\u001b[0m",
      "\u001b[0;31mAttributeError\u001b[0m                            Traceback (most recent call last)",
      "\u001b[0;32m<ipython-input-36-3d0c818a2203>\u001b[0m in \u001b[0;36m<module>\u001b[0;34m()\u001b[0m\n\u001b[0;32m----> 1\u001b[0;31m \u001b[0mff\u001b[0m\u001b[0;34m.\u001b[0m\u001b[0mhead\u001b[0m\u001b[0;34m(\u001b[0m\u001b[0;36m5\u001b[0m\u001b[0;34m)\u001b[0m\u001b[0;34m\u001b[0m\u001b[0m\n\u001b[0m",
      "\u001b[0;31mAttributeError\u001b[0m: 'dict' object has no attribute 'head'"
     ]
    }
   ],
   "source": [
    "ff.head(5)"
   ]
  },
  {
   "cell_type": "markdown",
   "metadata": {},
   "source": [
    "---------------------------------------------\n",
    "\n",
    "##  Approach 1:  Apply plot methods to dataframes\n",
    "\n",
    "The simplest way to produce graphics from a dataframe is to apply a plot method to it.  \n",
    "\n",
    "We see that a number of things are preset for us:\n",
    "\n",
    "* Data.  By default the data consists of the whole dataframe. \n",
    "* Chart type.  We have options for lines, bars, or other things, but the default is line\n",
    "* `x` and `y` variables.  By default, the `x` variable is the dataframe's index and the `y` variables are the columns of the dataframe -- all of them that can be plotted (e.g. columns with a numeric dtype).\n",
    "\n",
    "We can change all of these things, but that's always a good starting point."
   ]
  },
  {
   "cell_type": "markdown",
   "metadata": {},
   "source": [
    "### US GDP and consumption"
   ]
  },
  {
   "cell_type": "code",
   "execution_count": 3,
   "metadata": {
    "collapsed": false
   },
   "outputs": [
    {
     "data": {
      "text/plain": [
       "<matplotlib.axes._subplots.AxesSubplot at 0x112d35828>"
      ]
     },
     "execution_count": 3,
     "metadata": {},
     "output_type": "execute_result"
    },
    {
     "data": {
      "image/png": "[encoded data removed]",
      "text/plain": [
       "<matplotlib.figure.Figure at 0x112725e80>"
      ]
     },
     "metadata": {},
     "output_type": "display_data"
    }
   ],
   "source": [
    "# try this with US GDP\n",
    "us.plot()"
   ]
  },
  {
   "cell_type": "code",
   "execution_count": 4,
   "metadata": {
    "collapsed": false
   },
   "outputs": [
    {
     "data": {
      "text/plain": [
       "<matplotlib.axes._subplots.AxesSubplot at 0x112725cc0>"
      ]
     },
     "execution_count": 4,
     "metadata": {},
     "output_type": "execute_result"
    },
    {
     "data": {
      "image/png": "[encoded data removed]",
      "text/plain": [
       "<matplotlib.figure.Figure at 0x116b3f320>"
      ]
     },
     "metadata": {},
     "output_type": "display_data"
    }
   ],
   "source": [
    "# do GDP alone\n",
    "us['gdp'].plot()"
   ]
  },
  {
   "cell_type": "code",
   "execution_count": 5,
   "metadata": {
    "collapsed": false
   },
   "outputs": [
    {
     "data": {
      "text/plain": [
       "<matplotlib.axes._subplots.AxesSubplot at 0x116bac518>"
      ]
     },
     "execution_count": 5,
     "metadata": {},
     "output_type": "execute_result"
    },
    {
     "data": {
      "image/png": "[encoded data removed]",
      "text/plain": [
       "<matplotlib.figure.Figure at 0x116bdfd30>"
      ]
     },
     "metadata": {},
     "output_type": "display_data"
    }
   ],
   "source": [
    "us.plot(y=\"gdp\")"
   ]
  },
  {
   "cell_type": "code",
   "execution_count": 12,
   "metadata": {
    "collapsed": false
   },
   "outputs": [
    {
     "data": {
      "text/plain": [
       "<matplotlib.axes._subplots.AxesSubplot at 0x1170fdf28>"
      ]
     },
     "execution_count": 12,
     "metadata": {},
     "output_type": "execute_result"
    },
    {
     "data": {
      "image/png": "[encoded data removed]",
      "text/plain": [
       "<matplotlib.figure.Figure at 0x1170fd080>"
      ]
     },
     "metadata": {},
     "output_type": "display_data"
    }
   ],
   "source": [
    "# bar chart \n",
    "us.plot(kind='bar')"
   ]
  },
  {
   "cell_type": "code",
   "execution_count": null,
   "metadata": {
    "collapsed": false
   },
   "outputs": [],
   "source": [
    "# scatter plot \n",
    "# we need to be explicit about the x and y variables: x = 'gdp', y = 'pce'\n",
    "us.plot.scatter('gdp', 'pce')"
   ]
  },
  {
   "cell_type": "code",
   "execution_count": 20,
   "metadata": {
    "collapsed": false
   },
   "outputs": [
    {
     "data": {
      "text/plain": [
       "array([<matplotlib.axes._subplots.AxesSubplot object at 0x117384fd0>], dtype=object)"
      ]
     },
     "execution_count": 20,
     "metadata": {},
     "output_type": "execute_result"
    },
    {
     "data": {
      "image/png": "[encoded data removed]",
      "text/plain": [
       "<matplotlib.figure.Figure at 0x11761c6a0>"
      ]
     },
     "metadata": {},
     "output_type": "display_data"
    }
   ],
   "source": [
    "us.plot('gdp', 'pce', kind='scatter', subplots=True, sharey=True, figsize=(3,6), ylim=(0,16000))"
   ]
  },
  {
   "cell_type": "markdown",
   "metadata": {},
   "source": [
    "**Exercise.**  Add each of these arguments, one at a time, to `us.plot()`:  \n",
    "\n",
    "* `kind='area'`\n",
    "* `subplots=True`\n",
    "* `sharey=True`\n",
    "* `figsize=(3,6)`\n",
    "* `ylim=(0,16000)`\n",
    "\n",
    "What do they do?"
   ]
  },
  {
   "cell_type": "code",
   "execution_count": 21,
   "metadata": {
    "collapsed": false
   },
   "outputs": [
    {
     "data": {
      "text/plain": [
       "<matplotlib.axes._subplots.AxesSubplot at 0x1176c2278>"
      ]
     },
     "execution_count": 21,
     "metadata": {},
     "output_type": "execute_result"
    },
    {
     "data": {
      "image/png": "[encoded data removed]",
      "text/plain": [
       "<matplotlib.figure.Figure at 0x1175b3908>"
      ]
     },
     "metadata": {},
     "output_type": "display_data"
    }
   ],
   "source": [
    "us.plot(kind='area')               # fill the area below"
   ]
  },
  {
   "cell_type": "code",
   "execution_count": 22,
   "metadata": {
    "collapsed": false
   },
   "outputs": [
    {
     "data": {
      "text/plain": [
       "array([<matplotlib.axes._subplots.AxesSubplot object at 0x1178e5a58>,\n",
       "       <matplotlib.axes._subplots.AxesSubplot object at 0x117a3ac50>], dtype=object)"
      ]
     },
     "execution_count": 22,
     "metadata": {},
     "output_type": "execute_result"
    },
    {
     "data": {
      "image/png": "[encoded data removed]",
      "text/plain": [
       "<matplotlib.figure.Figure at 0x117906c18>"
      ]
     },
     "metadata": {},
     "output_type": "display_data"
    }
   ],
   "source": [
    "us.plot(subplots=True)                # make separate subplots for the variables in the dataframe"
   ]
  },
  {
   "cell_type": "code",
   "execution_count": 23,
   "metadata": {
    "collapsed": false
   },
   "outputs": [
    {
     "data": {
      "text/plain": [
       "array([<matplotlib.axes._subplots.AxesSubplot object at 0x117aa49e8>,\n",
       "       <matplotlib.axes._subplots.AxesSubplot object at 0x117b4af60>], dtype=object)"
      ]
     },
     "execution_count": 23,
     "metadata": {},
     "output_type": "execute_result"
    },
    {
     "data": {
      "image/png": "[encoded data removed]",
      "text/plain": [
       "<matplotlib.figure.Figure at 0x117ab86d8>"
      ]
     },
     "metadata": {},
     "output_type": "display_data"
    }
   ],
   "source": [
    "us.plot(subplots=True, sharey = True)              # make the y axis the same"
   ]
  },
  {
   "cell_type": "code",
   "execution_count": 24,
   "metadata": {
    "collapsed": false
   },
   "outputs": [
    {
     "data": {
      "text/plain": [
       "<matplotlib.axes._subplots.AxesSubplot at 0x117c984e0>"
      ]
     },
     "execution_count": 24,
     "metadata": {},
     "output_type": "execute_result"
    },
    {
     "data": {
      "image/png": "[encoded data removed]",
      "text/plain": [
       "<matplotlib.figure.Figure at 0x117cacf98>"
      ]
     },
     "metadata": {},
     "output_type": "display_data"
    }
   ],
   "source": [
    "us.plot(figsize = (10, 2))           # first arg: width, second: height (inches)"
   ]
  },
  {
   "cell_type": "code",
   "execution_count": 25,
   "metadata": {
    "collapsed": false
   },
   "outputs": [
    {
     "data": {
      "text/plain": [
       "<matplotlib.axes._subplots.AxesSubplot at 0x117d2bb38>"
      ]
     },
     "execution_count": 25,
     "metadata": {},
     "output_type": "execute_result"
    },
    {
     "data": {
      "image/png": "[encoded data removed]",
      "text/plain": [
       "<matplotlib.figure.Figure at 0x117e15ef0>"
      ]
     },
     "metadata": {},
     "output_type": "display_data"
    }
   ],
   "source": [
    "us.plot(ylim = (0, 16000))                     # change the range of the y axis"
   ]
  },
  {
   "cell_type": "markdown",
   "metadata": {},
   "source": [
    "### Fama-French asset returns "
   ]
  },
  {
   "cell_type": "code",
   "execution_count": 39,
   "metadata": {
    "collapsed": false
   },
   "outputs": [
    {
     "data": {
      "text/plain": [
       "<matplotlib.axes._subplots.AxesSubplot at 0x117e7ee80>"
      ]
     },
     "execution_count": 39,
     "metadata": {},
     "output_type": "execute_result"
    },
    {
     "data": {
      "image/png": "[encoded data removed]",
      "text/plain": [
       "<matplotlib.figure.Figure at 0x117cf3ac8>"
      ]
     },
     "metadata": {},
     "output_type": "display_data"
    }
   ],
   "source": [
    "# now try a few things with the Fama-French data\n",
    "us.plot()"
   ]
  },
  {
   "cell_type": "markdown",
   "metadata": {},
   "source": [
    "**Exercise.** What do each of the arguments do in the code below?  "
   ]
  },
  {
   "cell_type": "code",
   "execution_count": 40,
   "metadata": {
    "collapsed": false
   },
   "outputs": [
    {
     "data": {
      "text/plain": [
       "array([<matplotlib.axes._subplots.AxesSubplot object at 0x110236320>,\n",
       "       <matplotlib.axes._subplots.AxesSubplot object at 0x117fc4668>], dtype=object)"
      ]
     },
     "execution_count": 40,
     "metadata": {},
     "output_type": "execute_result"
    },
    {
     "data": {
      "image/png": "[encoded data removed]",
      "text/plain": [
       "<matplotlib.figure.Figure at 0x11023c9e8>"
      ]
     },
     "metadata": {},
     "output_type": "display_data"
    }
   ],
   "source": [
    "us.plot(kind='hist',         \n",
    "        bins=20,             \n",
    "        subplots=True)       "
   ]
  },
  {
   "cell_type": "code",
   "execution_count": null,
   "metadata": {
    "collapsed": false
   },
   "outputs": [],
   "source": [
    "# \"smoothed\" histogram \n",
    "ff.plot(kind='kde', subplots=True, sharex=True)    # smoothed histogram (\"kernel density estimate\")"
   ]
  },
  {
   "cell_type": "markdown",
   "metadata": {},
   "source": [
    "**Exercise.**  Try adding the arguments `title='Fama-French returns'`, `grid=True`, and `legend=False`.  "
   ]
  },
  {
   "cell_type": "code",
   "execution_count": 43,
   "metadata": {
    "collapsed": false
   },
   "outputs": [
    {
     "data": {
      "text/plain": [
       "array([<matplotlib.axes._subplots.AxesSubplot object at 0x1182ea320>,\n",
       "       <matplotlib.axes._subplots.AxesSubplot object at 0x119b17710>], dtype=object)"
      ]
     },
     "execution_count": 43,
     "metadata": {},
     "output_type": "execute_result"
    },
    {
     "data": {
      "image/png": "[encoded data removed]",
      "text/plain": [
       "<matplotlib.figure.Figure at 0x1180d4550>"
      ]
     },
     "metadata": {},
     "output_type": "display_data"
    }
   ],
   "source": [
    "us.plot(kind='kde', \n",
    "        subplots=True, \n",
    "        sharex=True,\n",
    "        title='Fama-French returns',\n",
    "        grid=True,\n",
    "        legend=False)"
   ]
  },
  {
   "cell_type": "markdown",
   "metadata": {},
   "source": [
    "----------------------------------------\n",
    "## Approach 2:  `plt.plot(x, y)`\n",
    "\n",
    "Next up:  the popular `plot(x,y)` function from the pyplot module of Matplotlib.  We never use this and will go over it at high speed -- or perhaps not at all.\n",
    "\n",
    "This is a more explicit version of `Matplotlib` graphics in which we specify the `x` and `y` variables directly. "
   ]
  },
  {
   "cell_type": "code",
   "execution_count": 44,
   "metadata": {
    "collapsed": false
   },
   "outputs": [
    {
     "data": {
      "text/plain": [
       "[<matplotlib.lines.Line2D at 0x119c01fd0>]"
      ]
     },
     "execution_count": 44,
     "metadata": {},
     "output_type": "execute_result"
    },
    {
     "data": {
      "image/png": "[encoded data removed]",
      "text/plain": [
       "<matplotlib.figure.Figure at 0x119bb3978>"
      ]
     },
     "metadata": {},
     "output_type": "display_data"
    }
   ],
   "source": [
    "plt.plot(us.index, us['gdp'])"
   ]
  },
  {
   "cell_type": "code",
   "execution_count": 45,
   "metadata": {
    "collapsed": false
   },
   "outputs": [
    {
     "data": {
      "text/plain": [
       "[<matplotlib.lines.Line2D at 0x119c18b38>]"
      ]
     },
     "execution_count": 45,
     "metadata": {},
     "output_type": "execute_result"
    },
    {
     "data": {
      "image/png": "[encoded data removed]",
      "text/plain": [
       "<matplotlib.figure.Figure at 0x119c18ba8>"
      ]
     },
     "metadata": {},
     "output_type": "display_data"
    }
   ],
   "source": [
    "# we can do two lines together\n",
    "plt.plot(us.index, us['gdp'])\n",
    "plt.plot(us.index, us['pce'])"
   ]
  },
  {
   "cell_type": "code",
   "execution_count": 46,
   "metadata": {
    "collapsed": false
   },
   "outputs": [
    {
     "data": {
      "image/png": "[encoded data removed]",
      "text/plain": [
       "<matplotlib.figure.Figure at 0x119db2208>"
      ]
     },
     "metadata": {},
     "output_type": "display_data"
    }
   ],
   "source": [
    "# we can also add things to plots \n",
    "plt.plot(us.index, us['gdp']) \n",
    "plt.plot(us.index, us['pce']) \n",
    "\n",
    "plt.title('US GDP', fontsize=14, loc='left')          # add title\n",
    "plt.ylabel('Billions of 2009 USD')                    # y axis label \n",
    "plt.xlabel('Year')                                    # y axis label \n",
    "plt.tick_params(labelcolor='red')                     # change tick labels to red\n",
    "#plt.legend(['GDP', 'Consumption'], loc='best')        "
   ]
  },
  {
   "cell_type": "markdown",
   "metadata": {},
   "source": [
    "**Comment.** All of these statements must be in the same cell for this to work.  \n",
    "\n",
    "\n",
    "**Comment.** This is overkill -- it looks horrible -- but it makes the point that we control everything in the plot.  We recommend you do very little of this until you're more comfortable with the basics.  "
   ]
  },
  {
   "cell_type": "markdown",
   "metadata": {},
   "source": [
    "--------------------------------------------------\n",
    "## Approach 3:  Create figure objects and apply methods\n",
    "\n",
    "This approach is probably the most mysterious, but it's the **best**.  \n",
    "\n",
    "The idea is to use the `matplotlib.pyplot` function `subplots()`, which creates two objects:\n",
    "* `fig` : figure object -- blank canvas for creating a figure\n",
    "* `ax`  : axis object -- everything in the figure: axes, labels, legend\n",
    "\n",
    "apply methods on these objects to set the various elements of the graph. \n",
    "\n",
    "**Create objects.**   We'll see this line over and over:"
   ]
  },
  {
   "cell_type": "code",
   "execution_count": 47,
   "metadata": {
    "collapsed": false
   },
   "outputs": [
    {
     "data": {
      "image/png": "[encoded data removed]",
      "text/plain": [
       "<matplotlib.figure.Figure at 0x119d9cb00>"
      ]
     },
     "metadata": {},
     "output_type": "display_data"
    }
   ],
   "source": [
    "fig, ax = plt.subplots(2, 1)             # create fig and ax objects -- nrows, ncols"
   ]
  },
  {
   "cell_type": "markdown",
   "metadata": {},
   "source": [
    "**Exercise.** What do we have here?  What `type` are `fig` and `ax`?  "
   ]
  },
  {
   "cell_type": "code",
   "execution_count": 48,
   "metadata": {
    "collapsed": false
   },
   "outputs": [
    {
     "name": "stdout",
     "output_type": "stream",
     "text": [
      "fig is  <class 'matplotlib.figure.Figure'>\n",
      "ax  is  <class 'numpy.ndarray'>\n"
     ]
    }
   ],
   "source": [
    "print('fig is ', type(fig))\n",
    "print('ax  is ', type(ax))"
   ]
  },
  {
   "cell_type": "code",
   "execution_count": 49,
   "metadata": {
    "collapsed": false
   },
   "outputs": [
    {
     "data": {
      "text/plain": [
       "<matplotlib.axes._subplots.AxesSubplot at 0x11a0ecc88>"
      ]
     },
     "execution_count": 49,
     "metadata": {},
     "output_type": "execute_result"
    },
    {
     "data": {
      "image/png": "[encoded data removed]",
      "text/plain": [
       "<matplotlib.figure.Figure at 0x119d9c5c0>"
      ]
     },
     "metadata": {},
     "output_type": "display_data"
    }
   ],
   "source": [
    "# let's try that again, this time with content  \n",
    "fig, axe = plt.subplots(figsize=(8, 4))\n",
    "\n",
    "# add things to ax \n",
    "us.plot(ax=axe, color = ['red', 'green']) "
   ]
  },
  {
   "cell_type": "markdown",
   "metadata": {},
   "source": [
    "**Comment.** Both of these statements must be in the same cell.  "
   ]
  },
  {
   "cell_type": "code",
   "execution_count": 50,
   "metadata": {
    "collapsed": false
   },
   "outputs": [
    {
     "ename": "AttributeError",
     "evalue": "'dict' object has no attribute 'plot'",
     "output_type": "error",
     "traceback": [
      "\u001b[0;31m---------------------------------------------------------------------------\u001b[0m",
      "\u001b[0;31mAttributeError\u001b[0m                            Traceback (most recent call last)",
      "\u001b[0;32m<ipython-input-50-8fa27eae9b61>\u001b[0m in \u001b[0;36m<module>\u001b[0;34m()\u001b[0m\n\u001b[1;32m      1\u001b[0m \u001b[0;31m# Fama-French example\u001b[0m\u001b[0;34m\u001b[0m\u001b[0;34m\u001b[0m\u001b[0m\n\u001b[1;32m      2\u001b[0m \u001b[0mfig\u001b[0m\u001b[0;34m,\u001b[0m \u001b[0max\u001b[0m \u001b[0;34m=\u001b[0m \u001b[0mplt\u001b[0m\u001b[0;34m.\u001b[0m\u001b[0msubplots\u001b[0m\u001b[0;34m(\u001b[0m\u001b[0;34m)\u001b[0m\u001b[0;34m\u001b[0m\u001b[0m\n\u001b[0;32m----> 3\u001b[0;31m ff.plot(ax=ax, \n\u001b[0m\u001b[1;32m      4\u001b[0m         \u001b[0mkind\u001b[0m\u001b[0;34m=\u001b[0m\u001b[0;34m'line'\u001b[0m\u001b[0;34m,\u001b[0m                 \u001b[0;31m# line plot\u001b[0m\u001b[0;34m\u001b[0m\u001b[0m\n\u001b[1;32m      5\u001b[0m         \u001b[0mcolor\u001b[0m\u001b[0;34m=\u001b[0m\u001b[0;34m[\u001b[0m\u001b[0;34m'blue'\u001b[0m\u001b[0;34m,\u001b[0m \u001b[0;34m'magenta'\u001b[0m\u001b[0;34m]\u001b[0m\u001b[0;34m,\u001b[0m   \u001b[0;31m# line color\u001b[0m\u001b[0;34m\u001b[0m\u001b[0m\n",
      "\u001b[0;31mAttributeError\u001b[0m: 'dict' object has no attribute 'plot'"
     ]
    },
    {
     "data": {
      "image/png": "[encoded data removed]",
      "text/plain": [
       "<matplotlib.figure.Figure at 0x118417160>"
      ]
     },
     "metadata": {},
     "output_type": "display_data"
    }
   ],
   "source": [
    "# Fama-French example \n",
    "fig, ax = plt.subplots()\n",
    "ff.plot(ax=ax, \n",
    "        kind='line',                 # line plot \n",
    "        color=['blue', 'magenta'],   # line color \n",
    "        title='Fama-French market and riskfree returns')"
   ]
  },
  {
   "cell_type": "code",
   "execution_count": 51,
   "metadata": {
    "collapsed": false
   },
   "outputs": [
    {
     "ename": "AttributeError",
     "evalue": "'dict' object has no attribute 'plot'",
     "output_type": "error",
     "traceback": [
      "\u001b[0;31m---------------------------------------------------------------------------\u001b[0m",
      "\u001b[0;31mAttributeError\u001b[0m                            Traceback (most recent call last)",
      "\u001b[0;32m<ipython-input-51-c51c363f586d>\u001b[0m in \u001b[0;36m<module>\u001b[0;34m()\u001b[0m\n\u001b[1;32m      2\u001b[0m \u001b[0mfig\u001b[0m\u001b[0;34m,\u001b[0m \u001b[0max\u001b[0m \u001b[0;34m=\u001b[0m \u001b[0mplt\u001b[0m\u001b[0;34m.\u001b[0m\u001b[0msubplots\u001b[0m\u001b[0;34m(\u001b[0m\u001b[0;36m1\u001b[0m\u001b[0;34m,\u001b[0m \u001b[0;36m2\u001b[0m\u001b[0;34m,\u001b[0m \u001b[0mfigsize\u001b[0m\u001b[0;34m=\u001b[0m\u001b[0;34m(\u001b[0m\u001b[0;36m12\u001b[0m\u001b[0;34m,\u001b[0m \u001b[0;36m4\u001b[0m\u001b[0;34m)\u001b[0m\u001b[0;34m)\u001b[0m\u001b[0;34m\u001b[0m\u001b[0m\n\u001b[1;32m      3\u001b[0m \u001b[0;34m\u001b[0m\u001b[0m\n\u001b[0;32m----> 4\u001b[0;31m ff.plot(ax=ax[0], \n\u001b[0m\u001b[1;32m      5\u001b[0m         \u001b[0mkind\u001b[0m\u001b[0;34m=\u001b[0m\u001b[0;34m'hist'\u001b[0m\u001b[0;34m,\u001b[0m                 \u001b[0;31m# line plot\u001b[0m\u001b[0;34m\u001b[0m\u001b[0m\n\u001b[1;32m      6\u001b[0m         \u001b[0mcolor\u001b[0m\u001b[0;34m=\u001b[0m\u001b[0;34m[\u001b[0m\u001b[0;34m'blue'\u001b[0m\u001b[0;34m,\u001b[0m \u001b[0;34m'magenta'\u001b[0m\u001b[0;34m]\u001b[0m\u001b[0;34m,\u001b[0m   \u001b[0;31m# line color\u001b[0m\u001b[0;34m\u001b[0m\u001b[0m\n",
      "\u001b[0;31mAttributeError\u001b[0m: 'dict' object has no attribute 'plot'"
     ]
    },
    {
     "data": {
      "image/png": "[encoded data removed]",
      "text/plain": [
       "<matplotlib.figure.Figure at 0x11a1aaba8>"
      ]
     },
     "metadata": {},
     "output_type": "display_data"
    }
   ],
   "source": [
    "# Fama-French example \n",
    "fig, ax = plt.subplots(1, 2, figsize=(12, 4))\n",
    "\n",
    "ff.plot(ax=ax[0], \n",
    "        kind='hist',                 # line plot \n",
    "        color=['blue', 'magenta'],   # line color \n",
    "        alpha=0.65,\n",
    "        bins=20,\n",
    "        title='Fama-French market and riskfree returns')\n",
    "\n",
    "ff.plot(ax=ax[1], \n",
    "        kind='kde',                 # line plot \n",
    "        color=['blue', 'magenta'],   # line color \n",
    "        title='Fama-French market and riskfree returns',\n",
    "        alpha=0.65)\n",
    "\n",
    "fig.tight_layout()"
   ]
  },
  {
   "cell_type": "markdown",
   "metadata": {},
   "source": [
    "-----------------------------------\n",
    "## Quick review of the bidding\n",
    "\n",
    "We looked at three ways to use Matplotlib:\n",
    "\n",
    "* Approach #1:  apply plot method to dataframe\n",
    "* Approach #2:  use `plot(x,y)` function \n",
    "* Approach #3:  create `fig, ax` objects, apply plot methods to them\n",
    "\n",
    "Same result, different syntax.  This is what each of them looks like applied to US GDP: \n",
    "\n",
    "```python\n",
    "us['gdp'].plot()                   # Approach #1\n",
    "\n",
    "plt.plot(us.index, us['gdp'])      # Approach #2\n",
    "\n",
    "fig, ax = plt.subplots()           # Approach #3 \n",
    "ax.plot(us.index, us['gdp'])  \n",
    "\n",
    "# Or\n",
    "fig, ax = plt.subplots()           # Approach #3 \n",
    "us['gdp'].plot(ax=ax)\n",
    "\n",
    "```\n",
    "\n",
    "Each one produces the same graph.\n",
    "\n",
    "Which one should we use?  **Use Approach #3.**  Really.  This is a case where choice is confusing.\n",
    "\n",
    "We also suggest you not commit any of this to memory.  If you end up using it a lot, you'll remember it.  If you don't, it's not worth remembering. "
   ]
  },
  {
   "cell_type": "markdown",
   "metadata": {},
   "source": [
    "## Bells and whistles\n",
    "\n",
    "### Adding things to graphs\n",
    "\n",
    "Axis methods offer us great flexibility. Here's an example."
   ]
  },
  {
   "cell_type": "code",
   "execution_count": 56,
   "metadata": {
    "collapsed": false
   },
   "outputs": [
    {
     "ename": "SyntaxError",
     "evalue": "invalid syntax (<ipython-input-56-6cecb7fbe8a3>, line 12)",
     "output_type": "error",
     "traceback": [
      "\u001b[0;36m  File \u001b[0;32m\"<ipython-input-56-6cecb7fbe8a3>\"\u001b[0;36m, line \u001b[0;32m12\u001b[0m\n\u001b[0;31m    ax.legend?\u001b[0m\n\u001b[0m             ^\u001b[0m\n\u001b[0;31mSyntaxError\u001b[0m\u001b[0;31m:\u001b[0m invalid syntax\n"
     ]
    }
   ],
   "source": [
    "fig, ax = plt.subplots()\n",
    "\n",
    "us.plot(ax=ax)\n",
    "\n",
    "# Apply axis methods\n",
    "ax.set_title('US GDP and Consumption', fontsize=14, loc='left')\n",
    "ax.set_ylabel('Billions of 2013 USD')\n",
    "ax.legend(['Real GDP', 'Consumption'], loc=0)  # more descriptive variable names \n",
    "ax.tick_params(labelcolor='red')               # change tick labels to red\n",
    "ax.set_ylim(0)\n",
    "ax.set_xlabel('Date')"
   ]
  },
  {
   "cell_type": "markdown",
   "metadata": {},
   "source": [
    "(Your results may differ, but we really enjoyed that.) "
   ]
  },
  {
   "cell_type": "markdown",
   "metadata": {},
   "source": [
    "**Exercise.** Use the `set_xlabel()` method to add an x-axis label.  What would you choose?  Or would you prefer to leave it empty?  \n",
    "\n",
    "**Exercise.** Enter `ax.legend?` to access the documentation for the `legend` method.  What options appeal to you?  \n",
    "\n",
    "**Exercise.**  Change the line width to 2 and the line colors to blue and magenta.  *Hint:*  Use `us.plot?` to get the documentation.  \n",
    "\n",
    "**Exercise (challenging).** Use the `set_ylim()` method to start the `y` axis at zero.  *Hint:*  Use `ax.set_ylim?` to get the documentation.  \n",
    "\n",
    "**Exercise.** Create a line plot for the Fama-French dataframe `ff` that includes both returns.  *Bonus points:* Add a title with the `set_title` method.  "
   ]
  },
  {
   "cell_type": "code",
   "execution_count": 55,
   "metadata": {
    "collapsed": false
   },
   "outputs": [
    {
     "ename": "SyntaxError",
     "evalue": "invalid syntax (<ipython-input-55-3a0238c8c08c>, line 2)",
     "output_type": "error",
     "traceback": [
      "\u001b[0;36m  File \u001b[0;32m\"<ipython-input-55-3a0238c8c08c>\"\u001b[0;36m, line \u001b[0;32m2\u001b[0m\n\u001b[0;31m    ax.legend?\u001b[0m\n\u001b[0m             ^\u001b[0m\n\u001b[0;31mSyntaxError\u001b[0m\u001b[0;31m:\u001b[0m invalid syntax\n"
     ]
    }
   ],
   "source": []
  },
  {
   "cell_type": "code",
   "execution_count": null,
   "metadata": {
    "collapsed": false
   },
   "outputs": [],
   "source": [
    "fig, ax = plt.subplots()\n",
    "\n",
    "us.plot(ax=ax, lw=2)       \n",
    "ax.set_title('US GDP and Consumption', fontsize=14, loc='left')\n",
    "ax.set_ylabel('Billions of 2013 USD')\n",
    "ax.legend(['Real GDP', 'Consumption'], loc=2)     # more descriptive variable names \n",
    "ax.tick_params(labelcolor='green')                # change tick labels to green\n",
    "ax.set_ylim(0)"
   ]
  },
  {
   "cell_type": "markdown",
   "metadata": {},
   "source": [
    "### Multiple subplots \n",
    "\n",
    "Same idea, but we create a multidimensional `ax` and apply methods to each component. Here we redo the plots of US GDP and consumption.  "
   ]
  },
  {
   "cell_type": "code",
   "execution_count": null,
   "metadata": {
    "collapsed": false
   },
   "outputs": [],
   "source": [
    "fig, ax = plt.subplots(nrows=2, ncols=2, sharex=True)\n",
    "print('Object ax has dimension', ax.shape)"
   ]
  },
  {
   "cell_type": "code",
   "execution_count": null,
   "metadata": {
    "collapsed": false
   },
   "outputs": [],
   "source": [
    "fig, ax = plt.subplots(nrows=2, ncols=2, sharex=True, sharey=True)\n",
    "print('Object ax has dimension', ax.shape)\n",
    "\n",
    "ax[0, 1].plot(us.index, us['pce'])\n",
    "ax[1, 0].plot(us.index, us['gdp'])"
   ]
  },
  {
   "cell_type": "code",
   "execution_count": null,
   "metadata": {
    "collapsed": false
   },
   "outputs": [],
   "source": [
    "# now add some content \n",
    "fig, ax = plt.subplots(nrows=2, ncols=1, sharex=True, sharey=True)\n",
    "\n",
    "us['gdp'].plot(ax=ax[0], color='green')   # first plot\n",
    "us['pce'].plot(ax=ax[1], color='red')     # second plot"
   ]
  },
  {
   "cell_type": "markdown",
   "metadata": {},
   "source": [
    "----------------------------------------\n",
    "## Examples\n",
    "\n",
    "We conclude with examples that take data from the previous chapter and make better graphs than we did there."
   ]
  },
  {
   "cell_type": "markdown",
   "metadata": {},
   "source": [
    "### Student test scores (PISA) \n",
    "\n",
    "The international test scores often used to compare quality of education across countries.  "
   ]
  },
  {
   "cell_type": "code",
   "execution_count": null,
   "metadata": {
    "collapsed": false
   },
   "outputs": [],
   "source": [
    "url = 'http://dx.doi.org/10.1787/888932937035'\n",
    "pisa = pd.read_excel(url, \n",
    "                     skiprows=18,                    # skip the first 18 rows \n",
    "                     skipfooter=7,                   # skip the last 7 \n",
    "                     parse_cols=[0,1,9,13],          # select columns \n",
    "                     index_col=0,                    # set index = first column\n",
    "                     header=[0,1]                    # set variable names \n",
    "                     )\n",
    "pisa = pisa.dropna()                                 # drop blank lines \n",
    "pisa.columns = ['Math', 'Reading', 'Science']        # simplify variable names "
   ]
  },
  {
   "cell_type": "code",
   "execution_count": null,
   "metadata": {
    "collapsed": false
   },
   "outputs": [],
   "source": [
    "# bar chart of math scores \n",
    "fig, ax = plt.subplots()\n",
    "pisa['Math'].plot(kind='barh', ax=ax)  "
   ]
  },
  {
   "cell_type": "markdown",
   "metadata": {},
   "source": [
    "**Comment.** Yikes!  That's horrible!  What can we do about it? Any suggestions?\n",
    "\n",
    "Let's make the figure taller.  The `figsize` argument has the form `(width, height)`.  The default is `(6, 4)`.  We want a tall figure, so we need to increase the height setting.  "
   ]
  },
  {
   "cell_type": "code",
   "execution_count": null,
   "metadata": {
    "collapsed": false
   },
   "outputs": [],
   "source": [
    "# make the plot taller \n",
    "fig, ax = plt.subplots(figsize=(4, 13))  # note figsize \n",
    "pisa['Math'].plot(kind='barh', ax=ax)  \n",
    "ax.set_title('PISA Math Score', loc='left')"
   ]
  },
  {
   "cell_type": "markdown",
   "metadata": {},
   "source": [
    "**Comment.** What if we wanted to make the US bar red?  This is **far too** complicated, but we used our Google fu and found [a solution](http://stackoverflow.com/questions/18973404/setting-different-bar-color-in-matplotlib-python)."
   ]
  },
  {
   "cell_type": "code",
   "execution_count": null,
   "metadata": {
    "collapsed": false
   },
   "outputs": [],
   "source": [
    "fig, ax = plt.subplots()\n",
    "pisa['Math'].plot(ax=ax, kind='barh', figsize=(4,13))\n",
    "ax.set_title('PISA Math Score', loc='left')\n",
    "\n",
    "us_index = pisa.index.tolist().index('United States')\n",
    "ax.get_children()[us_index].set_color('r')"
   ]
  },
  {
   "cell_type": "markdown",
   "metadata": {},
   "source": [
    "**Exercise.** Create the same graph for the Reading score.  "
   ]
  },
  {
   "cell_type": "markdown",
   "metadata": {},
   "source": [
    "### World Bank data\n",
    "\n",
    "We'll use World Bank data for GDP, GDP per capita, and life expectancy to produce a few graphs and illsutrate some methods we haven't seen yet.   \n",
    "\n",
    "* Bar charts of GDP and GDP per capita \n",
    "* Scatter plot (bubble plot) of life expectancy v GDP per capita "
   ]
  },
  {
   "cell_type": "code",
   "execution_count": null,
   "metadata": {
    "collapsed": false
   },
   "outputs": [],
   "source": [
    "# variable list (GDP, GDP per capita, life expectancy)\n",
    "var = ['NY.GDP.PCAP.PP.KD', 'NY.GDP.MKTP.PP.KD', 'SP.DYN.LE00.IN']  \n",
    "# country list (ISO codes)\n",
    "iso = ['USA', 'FRA', 'JPN', 'CHN', 'IND', 'BRA', 'MEX']\n",
    "year = 2013\n",
    "\n",
    "# get data from World Bank \n",
    "df = wb.download(indicator=var, country=iso, start=year, end=year)\n",
    "\n",
    "# massage data\n",
    "df = df.reset_index(level='year', drop=True)\n",
    "df.columns = ['gdppc', 'gdp', 'life'] # rename variables\n",
    "df['pop']  = df['gdp']/df['gdppc']    # population \n",
    "df['gdp'] = df['gdp']/10**12          # convert to trillions\n",
    "df['gdppc'] = df['gdppc']/10**3       # convert to thousands\n",
    "df['order'] = [5, 3, 1, 4, 2, 6, 0]   # reorder countries\n",
    "df = df.sort_values(by='order', ascending=False)\n",
    "df"
   ]
  },
  {
   "cell_type": "code",
   "execution_count": null,
   "metadata": {
    "collapsed": true
   },
   "outputs": [],
   "source": [
    "# We'll use this same basic graph a few times.\n",
    "# Let's make a function so we don't have to repeat the\n",
    "# code to create \n",
    "def gdp_bar(variable=\"gdp\"):\n",
    "    fig, ax = plt.subplots()\n",
    "    df[variable].plot(ax=ax, kind='barh', alpha=0.5)\n",
    "    ax.set_title('Real GDP', loc='left', fontsize=14)\n",
    "    ax.set_xlabel('Trillions of US Dollars')\n",
    "    ax.set_ylabel('')\n",
    "    return fig, ax\n",
    "    "
   ]
  },
  {
   "cell_type": "code",
   "execution_count": null,
   "metadata": {
    "collapsed": false
   },
   "outputs": [],
   "source": [
    "gdp_bar()"
   ]
  },
  {
   "cell_type": "code",
   "execution_count": null,
   "metadata": {
    "collapsed": false
   },
   "outputs": [],
   "source": [
    "# ditto for GDP per capita (per person)\n",
    "fig, ax = gdp_bar(\"gdppc\")\n",
    "ax.set_title('GDP Per Capita', loc='left', fontsize=14)"
   ]
  },
  {
   "cell_type": "markdown",
   "metadata": {},
   "source": [
    "And just because it's fun, here's an example of Tufte-like axes from [Matplotlib examples](http://matplotlib.org/examples/ticks_and_spines/spines_demo_dropped.html):"
   ]
  },
  {
   "cell_type": "code",
   "execution_count": null,
   "metadata": {
    "collapsed": false
   },
   "outputs": [],
   "source": [
    "fig, ax = gdp_bar()\n",
    "\n",
    "# Tufte-like axes\n",
    "ax.spines['left'].set_position(('outward', 7))\n",
    "ax.spines['bottom'].set_position(('outward', 7))\n",
    "ax.spines['right'].set_visible(False)\n",
    "ax.spines['top'].set_visible(False)\n",
    "ax.yaxis.set_ticks_position('left')\n",
    "ax.xaxis.set_ticks_position('bottom')"
   ]
  },
  {
   "cell_type": "markdown",
   "metadata": {},
   "source": [
    "**Exercise (challenging).**  Make the ticks point out.  "
   ]
  },
  {
   "cell_type": "code",
   "execution_count": null,
   "metadata": {
    "collapsed": false
   },
   "outputs": [],
   "source": [
    "# scatterplot of life expectancy vs gdp per capita\n",
    "fig, ax = plt.subplots()\n",
    "\n",
    "ax.scatter(df['gdppc'], df['life'],     # x,y variables\n",
    "           s=df['pop']/10**6,          # size of bubbles\n",
    "           alpha=0.5)   \n",
    "ax.set_title('Life expectancy vs. GDP per capita', loc='left', fontsize=14)\n",
    "ax.set_xlabel('GDP Per Capita')\n",
    "ax.set_ylabel('Life Expectancy')\n",
    "ax.text(58, 66, 'Bubble size represents population', horizontalalignment='right')"
   ]
  },
  {
   "cell_type": "markdown",
   "metadata": {},
   "source": [
    "**Exercise.** Make the bubble a little larger.  "
   ]
  },
  {
   "cell_type": "code",
   "execution_count": null,
   "metadata": {
    "collapsed": true
   },
   "outputs": [],
   "source": []
  },
  {
   "cell_type": "markdown",
   "metadata": {},
   "source": [
    "**Exercise (challenging).** Add labels to the bubbles so we know which country they correspond to."
   ]
  },
  {
   "cell_type": "code",
   "execution_count": null,
   "metadata": {
    "collapsed": false
   },
   "outputs": [],
   "source": [
    "# scatterplot of life expectancy vs gdp per capita\n",
    "fig, ax = plt.subplots()\n",
    "\n",
    "ax.scatter(df['gdppc'], df['life'],     # x,y variables\n",
    "           s=df['pop']/10**6,          # size of bubbles\n",
    "           alpha=0.5)   \n",
    "\n",
    "ax.set_title('Life expectancy vs. GDP per capita', loc='left', fontsize=14)\n",
    "ax.set_xlabel('GDP Per Capita')\n",
    "ax.set_ylabel('Life Expectancy')\n",
    "ax.text(58, 66, 'Bubble size represents population', horizontalalignment='right')\n",
    "\n",
    "for (x, y, country) in zip(df['gdppc'], df['life'], df.index):\n",
    "    ax.text(x, y, country)"
   ]
  },
  {
   "cell_type": "markdown",
   "metadata": {},
   "source": [
    "## Review\n",
    "\n",
    "Consider the data from Randal Olson's [blog post](http://www.randalolson.com/2014/06/28/how-to-make-beautiful-data-visualizations-in-python-with-matplotlib/):"
   ]
  },
  {
   "cell_type": "code",
   "execution_count": null,
   "metadata": {
    "collapsed": true
   },
   "outputs": [],
   "source": [
    "import pandas as pd\n",
    "data = {'Food': ['French Fries', 'Potato Chips', 'Bacon', 'Pizza', 'Chili Dog'],\n",
    "        'Calories per 100g':  [607, 542, 533, 296, 260]}\n",
    "cals = pd.DataFrame(data)"
   ]
  },
  {
   "cell_type": "markdown",
   "metadata": {},
   "source": [
    "The dataframe `cals` contains the calories in 100 grams of several different foods.\n",
    "\n",
    "\n",
    "**Exercise.** We'll create and modify visualizations of this data:\n",
    "\n",
    "* Set `'Food'` as the index of `cals`.\n",
    "* Create a bar chart with `cals` using figure and axis objects.\n",
    "* Add a title.\n",
    "* Change the color of the bars.  What color do you prefer?\n",
    "* Add the argument `alpha=0.5`.  What does it do?\n",
    "* Change your chart to a horizontal bar chart.  Which do you prefer?\n",
    "* *Challenging.*  Eliminate the legend.\n",
    "* *Challenging.*  Skim the top of Olson's [blog post](http://www.randalolson.com/2014/06/28/how-to-make-beautiful-data-visualizations-in-python-with-matplotlib/). What do you see that you'd like to imitate?"
   ]
  },
  {
   "cell_type": "code",
   "execution_count": null,
   "metadata": {
    "collapsed": true
   },
   "outputs": [],
   "source": []
  },
  {
   "cell_type": "markdown",
   "metadata": {},
   "source": [
    "## Where does that leave us?\n",
    "\n",
    "* We now have several ways to produce graphs.  \n",
    "* Next up:  think about what we want to graph and why. The tools serve that higher purpose.  "
   ]
  },
  {
   "cell_type": "code",
   "execution_count": null,
   "metadata": {
    "collapsed": true
   },
   "outputs": [],
   "source": []
  }
 ],
 "metadata": {
  "anaconda-cloud": {},
  "kernelspec": {
   "display_name": "Python 3",
   "language": "python",
   "name": "python3"
  },
  "language_info": {
   "codemirror_mode": {
    "name": "ipython",
    "version": 3
   },
   "file_extension": ".py",
   "mimetype": "text/x-python",
   "name": "python",
   "nbconvert_exporter": "python",
   "pygments_lexer": "ipython3",
   "version": "3.6.0"
  }
 },
 "nbformat": 4,
 "nbformat_minor": 0
}
