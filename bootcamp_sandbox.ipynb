{
 "cells": [
  {
   "cell_type": "code",
   "execution_count": 1,
   "metadata": {
    "collapsed": false
   },
   "outputs": [
    {
     "name": "stdout",
     "output_type": "stream",
     "text": [
      "Welcome to Data Bootcamp!\n",
      "Today's date is: 2017-05-06\n"
     ]
    }
   ],
   "source": [
    "import datetime as dt\n",
    "print(\"Welcome to Data Bootcamp!\")\n",
    "print(\"Today's date is:\", dt.date.today())\n"
   ]
  },
  {
   "cell_type": "markdown",
   "metadata": {},
   "source": [
    "Missy Allan \n",
    "Data Bootcamp Sandbox for playing around with Jupyter notebooks "
   ]
  },
  {
   "cell_type": "code",
   "execution_count": 8,
   "metadata": {
    "collapsed": false
   },
   "outputs": [
    {
     "name": "stdout",
     "output_type": "stream",
     "text": [
      "\n",
      "       name  x1  x2   x3\n",
      "0     Dave   1   2  3.5\n",
      "1    Chase   4   3  4.3\n",
      "2  Spencer   5   6  7.8\n"
     ]
    }
   ],
   "source": [
    "import pandas as pd\n",
    "url1 = 'https://raw.githubusercontent.com/NYUDataBootcamp'\n",
    "url2 = '/Materials/master/Data/test.xls'\n",
    "url  = url1 + url2\n",
    "dfx = pd.read_excel(url)\n",
    "print('\\n', dfx)\n",
    "\n"
   ]
  },
  {
   "cell_type": "code",
   "execution_count": 16,
   "metadata": {
    "collapsed": false
   },
   "outputs": [
    {
     "name": "stdout",
     "output_type": "stream",
     "text": [
      "\n",
      "      Rank  Major_code                                          Major  \\\n",
      "0       1        2419                          PETROLEUM ENGINEERING   \n",
      "1       2        2416                 MINING AND MINERAL ENGINEERING   \n",
      "2       3        2415                      METALLURGICAL ENGINEERING   \n",
      "3       4        2417      NAVAL ARCHITECTURE AND MARINE ENGINEERING   \n",
      "4       5        2405                           CHEMICAL ENGINEERING   \n",
      "5       6        2418                            NUCLEAR ENGINEERING   \n",
      "6       7        6202                              ACTUARIAL SCIENCE   \n",
      "7       8        5001                     ASTRONOMY AND ASTROPHYSICS   \n",
      "8       9        2414                         MECHANICAL ENGINEERING   \n",
      "9      10        2408                         ELECTRICAL ENGINEERING   \n",
      "10     11        2407                           COMPUTER ENGINEERING   \n",
      "11     12        2401                          AEROSPACE ENGINEERING   \n",
      "12     13        2404                         BIOMEDICAL ENGINEERING   \n",
      "13     14        5008                              MATERIALS SCIENCE   \n",
      "14     15        2409      ENGINEERING MECHANICS PHYSICS AND SCIENCE   \n",
      "15     16        2402                         BIOLOGICAL ENGINEERING   \n",
      "16     17        2412       INDUSTRIAL AND MANUFACTURING ENGINEERING   \n",
      "17     18        2400                            GENERAL ENGINEERING   \n",
      "18     19        2403                      ARCHITECTURAL ENGINEERING   \n",
      "19     20        3201                                COURT REPORTING   \n",
      "20     21        2102                               COMPUTER SCIENCE   \n",
      "21     22        1104                                   FOOD SCIENCE   \n",
      "22     23        2502              ELECTRICAL ENGINEERING TECHNOLOGY   \n",
      "23     24        2413    MATERIALS ENGINEERING AND MATERIALS SCIENCE   \n",
      "24     25        6212  MANAGEMENT INFORMATION SYSTEMS AND STATISTICS   \n",
      "25     26        2406                              CIVIL ENGINEERING   \n",
      "26     27        5601                          CONSTRUCTION SERVICES   \n",
      "27     28        6204            OPERATIONS LOGISTICS AND E-COMMERCE   \n",
      "28     29        2499                      MISCELLANEOUS ENGINEERING   \n",
      "29     30        5402                                  PUBLIC POLICY   \n",
      "..    ...         ...                                            ...   \n",
      "143   144        1105                     PLANT SCIENCE AND AGRONOMY   \n",
      "144   145        2308         SCIENCE AND COMPUTER TEACHER EDUCATION   \n",
      "145   146        5200                                     PSYCHOLOGY   \n",
      "146   147        6002                                          MUSIC   \n",
      "147   148        2306         PHYSICAL AND HEALTH EDUCATION TEACHING   \n",
      "148   149        6006                      ART HISTORY AND CRITICISM   \n",
      "149   150        6000                                      FINE ARTS   \n",
      "150   151        2901                   FAMILY AND CONSUMER SCIENCES   \n",
      "151   152        5404                                    SOCIAL WORK   \n",
      "152   153        1103                                ANIMAL SCIENCES   \n",
      "153   154        6003                     VISUAL AND PERFORMING ARTS   \n",
      "154   155        2312             TEACHER EDUCATION: MULTIPLE LEVELS   \n",
      "155   156        5299                       MISCELLANEOUS PSYCHOLOGY   \n",
      "156   157        5403      HUMAN SERVICES AND COMMUNITY ORGANIZATION   \n",
      "157   158        3402                                     HUMANITIES   \n",
      "158   159        4901               THEOLOGY AND RELIGIOUS VOCATIONS   \n",
      "159   160        6007                                    STUDIO ARTS   \n",
      "160   161        2201         COSMETOLOGY SERVICES AND CULINARY ARTS   \n",
      "161   162        1199                      MISCELLANEOUS AGRICULTURE   \n",
      "162   163        5502                    ANTHROPOLOGY AND ARCHEOLOGY   \n",
      "163   164        6102  COMMUNICATION DISORDERS SCIENCES AND SERVICES   \n",
      "164   165        2307                      EARLY CHILDHOOD EDUCATION   \n",
      "165   166        2603                        OTHER FOREIGN LANGUAGES   \n",
      "166   167        6001                         DRAMA AND THEATER ARTS   \n",
      "167   168        3302                       COMPOSITION AND RHETORIC   \n",
      "168   169        3609                                        ZOOLOGY   \n",
      "169   170        5201                         EDUCATIONAL PSYCHOLOGY   \n",
      "170   171        5202                            CLINICAL PSYCHOLOGY   \n",
      "171   172        5203                          COUNSELING PSYCHOLOGY   \n",
      "172   173        3501                                LIBRARY SCIENCE   \n",
      "\n",
      "                          Major_category   Total  Sample_size    Men   Women  \\\n",
      "0                            Engineering    2339           36   2057     282   \n",
      "1                            Engineering     756            7    679      77   \n",
      "2                            Engineering     856            3    725     131   \n",
      "3                            Engineering    1258           16   1123     135   \n",
      "4                            Engineering   32260          289  21239   11021   \n",
      "5                            Engineering    2573           17   2200     373   \n",
      "6                               Business    3777           51    832     960   \n",
      "7                      Physical Sciences    1792           10   2110    1667   \n",
      "8                            Engineering   91227         1029  12953    2105   \n",
      "9                            Engineering   81527          631   8407    6548   \n",
      "10                           Engineering   41542          399  33258    8284   \n",
      "11                           Engineering   15058          147  65511   16016   \n",
      "12                           Engineering   14955           79  80320   10907   \n",
      "13                           Engineering    4279           22   2949    1330   \n",
      "14                           Engineering    4321           30   3526     795   \n",
      "15                           Engineering    8925           55   6062    2863   \n",
      "16                           Engineering   18968          183  12453    6515   \n",
      "17                           Engineering   61152          425  45683   15469   \n",
      "18                           Engineering    2825           26   1835     990   \n",
      "19                   Law & Public Policy    1148           14    877     271   \n",
      "20               Computers & Mathematics  128319         1196   1837    2524   \n",
      "21       Agriculture & Natural Resources    4361           36  99743   28576   \n",
      "22                           Engineering   11565           97   2020     973   \n",
      "23                           Engineering    2993           22   8181    3384   \n",
      "24                              Business   18713          278  13496    5217   \n",
      "25                           Engineering   53153          565  41081   12072   \n",
      "26   Industrial Arts & Consumer Services   18498          295   2662    1385   \n",
      "27                              Business   11732          156    488     232   \n",
      "28                           Engineering    9133          118   7398    1735   \n",
      "29                   Law & Public Policy    5978           55   2695     905   \n",
      "..                                   ...     ...          ...    ...     ...   \n",
      "143      Agriculture & Natural Resources    7416          110   5079    7841   \n",
      "144                            Education    6483           59  22357   16404   \n",
      "145             Psychology & Social Work  393735         2584  86648  307087   \n",
      "146                                 Arts   60633          419  15670   12543   \n",
      "147                            Education   28213          259  29909   30724   \n",
      "148            Humanities & Liberal Arts   21030          204   3240   17790   \n",
      "149                                 Arts   74440          623  24786   49654   \n",
      "150  Industrial Arts & Consumer Services   58001          518   5347   16226   \n",
      "151             Psychology & Social Work   53552          374   2734   11709   \n",
      "152      Agriculture & Natural Resources   21573          255   5166   52835   \n",
      "153                                 Arts   16250          132   2013    4639   \n",
      "154                            Education   14443          142   1936    7692   \n",
      "155             Psychology & Social Work    9628           60    885    8489   \n",
      "156             Psychology & Social Work    9374           89   5137   48415   \n",
      "157            Humanities & Liberal Arts    6652           49   4133   12117   \n",
      "158            Humanities & Liberal Arts   30207          310    404    1084   \n",
      "159                                 Arts   16977          182   4364    6146   \n",
      "160  Industrial Arts & Consumer Services   10510          117  18616   11591   \n",
      "161      Agriculture & Natural Resources    1488           24   4754   12223   \n",
      "162            Humanities & Liberal Arts   38844          247   1167   36422   \n",
      "163                               Health   38279           95  11376   27468   \n",
      "164                            Education   37589          342   1225   37054   \n",
      "165            Humanities & Liberal Arts   11204           56   3472    7732   \n",
      "166                                 Arts   43249          357   7022   11931   \n",
      "167            Humanities & Liberal Arts   18953          151  14440   28809   \n",
      "168               Biology & Life Science    8409           47   3050    5359   \n",
      "169             Psychology & Social Work    2854            7    522    2332   \n",
      "170             Psychology & Social Work    2838           13    568    2270   \n",
      "171             Psychology & Social Work    4626           21    931    3695   \n",
      "172                            Education    1098            2    134     964   \n",
      "\n",
      "     ShareWomen  Employed      ...        Part_time  Full_time_year_round  \\\n",
      "0      0.120564      1976      ...              270                  1207   \n",
      "1      0.101852       640      ...              170                   388   \n",
      "2      0.153037       648      ...              133                   340   \n",
      "3      0.107313       758      ...              150                   692   \n",
      "4      0.341631     25694      ...             5180                 16697   \n",
      "5      0.144967      1857      ...              264                  1449   \n",
      "6      0.535714      2912      ...              296                  2482   \n",
      "7      0.441356      1526      ...              553                   827   \n",
      "8      0.139793     76442      ...            13101                 54639   \n",
      "9      0.437847     61928      ...            12695                 41413   \n",
      "10     0.199413     32506      ...             5146                 23621   \n",
      "11     0.196450     11391      ...             2724                  8790   \n",
      "12     0.119559     10047      ...             2694                  5986   \n",
      "13     0.310820      3307      ...              878                  1967   \n",
      "14     0.183985      3608      ...              811                  2004   \n",
      "15     0.320784      6170      ...             1983                  3413   \n",
      "16     0.343473     15604      ...             2243                 11326   \n",
      "17     0.252960     44931      ...             7199                 33540   \n",
      "18     0.350442      2575      ...              343                  1848   \n",
      "19     0.236063       930      ...              223                   808   \n",
      "20     0.578766    102087      ...            18726                 70932   \n",
      "21     0.222695      3149      ...             1121                  1735   \n",
      "22     0.325092      8587      ...             1873                  5681   \n",
      "23     0.292607      2449      ...             1040                  1151   \n",
      "24     0.278790     16413      ...             2420                 13017   \n",
      "25     0.227118     43041      ...            10080                 29196   \n",
      "26     0.342229     16318      ...             1751                 12313   \n",
      "27     0.322222     10027      ...             1183                  7724   \n",
      "28     0.189970      7428      ...             1662                  5476   \n",
      "29     0.251389      4547      ...             1306                  2776   \n",
      "..          ...       ...      ...              ...                   ...   \n",
      "143    0.606889      6594      ...             1246                  4522   \n",
      "144    0.423209      5362      ...             1227                  3247   \n",
      "145    0.779933    307933      ...           115172                174438   \n",
      "146    0.444582     47662      ...            24943                 21425   \n",
      "147    0.506721     23794      ...             7230                 13651   \n",
      "148    0.845934     17579      ...             6140                  9965   \n",
      "149    0.667034     59679      ...            23656                 31877   \n",
      "150    0.752144     46624      ...            15872                 26906   \n",
      "151    0.810704     45038      ...            13481                 27588   \n",
      "152    0.910933     17112      ...             5353                 10824   \n",
      "153    0.697384     12870      ...             6253                  6322   \n",
      "154    0.798920     13076      ...             2214                  8457   \n",
      "155    0.905590      7653      ...             3221                  3838   \n",
      "156    0.904075      8294      ...             2405                  5061   \n",
      "157    0.745662      5052      ...             2225                  2661   \n",
      "158    0.728495     24202      ...             8767                 13944   \n",
      "159    0.584776     13908      ...             5673                  7413   \n",
      "160    0.383719      8650      ...             2064                  5949   \n",
      "161    0.719974      1290      ...              335                   936   \n",
      "162    0.968954     29633      ...            14515                 13232   \n",
      "163    0.707136     29763      ...            13862                 14460   \n",
      "164    0.967998     32551      ...             7001                 20748   \n",
      "165    0.690111      7052      ...             3685                  3214   \n",
      "166    0.629505     36165      ...            15994                 16891   \n",
      "167    0.666119     15053      ...             6612                  7832   \n",
      "168    0.637293      6259      ...             2190                  3602   \n",
      "169    0.817099      2125      ...              572                  1211   \n",
      "170    0.799859      2101      ...              648                  1293   \n",
      "171    0.798746      3777      ...              965                  2738   \n",
      "172    0.877960       742      ...              237                   410   \n",
      "\n",
      "     Unemployed  Unemployment_rate  Median  P25th   P75th  College_jobs  \\\n",
      "0            37           0.018381  110000  95000  125000          1534   \n",
      "1            85           0.117241   75000  55000   90000           350   \n",
      "2            16           0.024096   73000  50000  105000           456   \n",
      "3            40           0.050125   70000  43000   80000           529   \n",
      "4          1672           0.061098   65000  50000   75000         18314   \n",
      "5           400           0.177226   65000  50000  102000          1142   \n",
      "6           308           0.095652   62000  53000   72000          1768   \n",
      "7            33           0.021167   62000  31500  109000           972   \n",
      "8          4650           0.057342   60000  48000   70000         52844   \n",
      "9          3895           0.059174   60000  45000   72000         45829   \n",
      "10         2275           0.065409   60000  45000   75000         23694   \n",
      "11          794           0.065162   60000  42000   70000          8184   \n",
      "12         1019           0.092084   60000  36000   70000          6439   \n",
      "13           78           0.023043   60000  39000   65000          2626   \n",
      "14           23           0.006334   58000  25000   74000          2439   \n",
      "15          589           0.087143   57100  40000   76000          3603   \n",
      "16          699           0.042876   57000  37900   67000          8306   \n",
      "17         2859           0.059824   56000  36000   69000         26898   \n",
      "18          170           0.061931   54000  38000   65000          1665   \n",
      "19           11           0.011690   54000  50000   54000           402   \n",
      "20         6884           0.063173   53000  39000   70000         68622   \n",
      "21          338           0.096931   53000  32000   70000          1183   \n",
      "22          824           0.087557   52000  35000   60000          5126   \n",
      "23           70           0.027789   52000  35000   62000          1911   \n",
      "24         1015           0.058240   51000  38000   60000          6342   \n",
      "25         3270           0.070610   50000  40000   60000         28526   \n",
      "26         1042           0.060023   50000  36000   60000          3275   \n",
      "27          504           0.047859   50000  40000   60000          1466   \n",
      "28          597           0.074393   50000  39000   65000          3445   \n",
      "29          670           0.128426   50000  35000   70000          1550   \n",
      "..          ...                ...     ...    ...     ...           ...   \n",
      "143         314           0.045455   32000  22900   40000          2089   \n",
      "144         266           0.047264   32000  28000   39000          4214   \n",
      "145       28169           0.083811   31500  24000   41000        125148   \n",
      "146        3918           0.075960   31000  22300   42000         13752   \n",
      "147        1920           0.074667   31000  24000   40000         12777   \n",
      "148        1128           0.060298   31000  23000   40000          5139   \n",
      "149        5486           0.084186   30500  21000   41000         20792   \n",
      "150        3355           0.067128   30000  22900   40000         20985   \n",
      "151        3329           0.068828   30000  25000   35000         27449   \n",
      "152         917           0.050862   30000  22000   40000          5443   \n",
      "153        1465           0.102197   30000  22000   40000          3849   \n",
      "154         496           0.036546   30000  24000   37000         10766   \n",
      "155         419           0.051908   30000  20800   40000          2960   \n",
      "156         326           0.037819   30000  24000   35000          2878   \n",
      "157         372           0.068584   30000  20000   49000          1168   \n",
      "158        1617           0.062628   29000  22000   38000          9927   \n",
      "159        1368           0.089552   29000  19200   38300          3948   \n",
      "160         510           0.055677   29000  20000   36000           563   \n",
      "161          82           0.059767   29000  23000   42100           483   \n",
      "162        3395           0.102792   28000  20000   38000          9805   \n",
      "163        1487           0.047584   28000  20000   40000         19957   \n",
      "164        1360           0.040105   28000  21000   35000         23515   \n",
      "165         846           0.107116   27500  22900   38000          2326   \n",
      "166        3040           0.077541   27000  19200   35000          6994   \n",
      "167        1340           0.081742   27000  20000   35000          4855   \n",
      "168         304           0.046320   26000  20000   39000          2771   \n",
      "169         148           0.065112   25000  24000   34000          1488   \n",
      "170         368           0.149048   25000  25000   40000           986   \n",
      "171         214           0.053621   23400  19200   26000          2403   \n",
      "172          87           0.104946   22000  20000   22000           288   \n",
      "\n",
      "     Non_college_jobs  Low_wage_jobs  \n",
      "0                 364            193  \n",
      "1                 257             50  \n",
      "2                 176              0  \n",
      "3                 102              0  \n",
      "4                4440            972  \n",
      "5                 657            244  \n",
      "6                 314            259  \n",
      "7                 500            220  \n",
      "8               16384           3253  \n",
      "9               10874           3170  \n",
      "10               5721            980  \n",
      "11               2425            372  \n",
      "12               2471            789  \n",
      "13                391             81  \n",
      "14                947            263  \n",
      "15               1595            524  \n",
      "16               3235            640  \n",
      "17              11734           3192  \n",
      "18                649            137  \n",
      "19                528            144  \n",
      "20              25667           5144  \n",
      "21               1274            485  \n",
      "22               2686            696  \n",
      "23                305             70  \n",
      "24               5741            708  \n",
      "25               9356           2899  \n",
      "26               5351            703  \n",
      "27               3629            285  \n",
      "28               2426            365  \n",
      "29               1871            340  \n",
      "..                ...            ...  \n",
      "143              3545           1231  \n",
      "144              1106            591  \n",
      "145            141860          48207  \n",
      "146             28786           9286  \n",
      "147              9328           2042  \n",
      "148              9738           3426  \n",
      "149             32725          11880  \n",
      "150             20133           5248  \n",
      "151             14416           4344  \n",
      "152              9571           2125  \n",
      "153              7635           2840  \n",
      "154              1949            722  \n",
      "155              3948           1650  \n",
      "156              4595            724  \n",
      "157              3354           1141  \n",
      "158             12037           3304  \n",
      "159              8707           3586  \n",
      "160              7384           3163  \n",
      "161               626             31  \n",
      "162             16693           6866  \n",
      "163              9404           5125  \n",
      "164              7705           2868  \n",
      "165              3703           1115  \n",
      "166             25313          11068  \n",
      "167              8100           3466  \n",
      "168              2947            743  \n",
      "169               615             82  \n",
      "170               870            622  \n",
      "171              1245            308  \n",
      "172               338            192  \n",
      "\n",
      "[173 rows x 21 columns]\n"
     ]
    }
   ],
   "source": [
    "url1 = 'https://raw.githubusercontent.com/fivethirtyeight/data/master/'\n",
    "url2 = 'college-majors/recent-grads.csv'\n",
    "url = url1 + url2\n",
    "df538 = pd.read_csv(url)\n",
    "print('\\n', df538)"
   ]
  },
  {
   "cell_type": "code",
   "execution_count": 20,
   "metadata": {
    "collapsed": true
   },
   "outputs": [],
   "source": [
    "print?"
   ]
  },
  {
   "cell_type": "code",
   "execution_count": 57,
   "metadata": {
    "collapsed": false
   },
   "outputs": [
    {
     "data": {
      "text/html": [
       "<div>\n",
       "<table border=\"1\" class=\"dataframe\">\n",
       "  <thead>\n",
       "    <tr style=\"text-align: right;\">\n",
       "      <th></th>\n",
       "      <th>rm</th>\n",
       "      <th>rf</th>\n",
       "    </tr>\n",
       "    <tr>\n",
       "      <th>Date</th>\n",
       "      <th></th>\n",
       "      <th></th>\n",
       "    </tr>\n",
       "  </thead>\n",
       "  <tbody>\n",
       "    <tr>\n",
       "      <th>2010</th>\n",
       "      <td>17.49</td>\n",
       "      <td>0.12</td>\n",
       "    </tr>\n",
       "    <tr>\n",
       "      <th>2011</th>\n",
       "      <td>0.48</td>\n",
       "      <td>0.04</td>\n",
       "    </tr>\n",
       "    <tr>\n",
       "      <th>2012</th>\n",
       "      <td>16.34</td>\n",
       "      <td>0.06</td>\n",
       "    </tr>\n",
       "    <tr>\n",
       "      <th>2013</th>\n",
       "      <td>35.22</td>\n",
       "      <td>0.02</td>\n",
       "    </tr>\n",
       "    <tr>\n",
       "      <th>2014</th>\n",
       "      <td>11.72</td>\n",
       "      <td>0.02</td>\n",
       "    </tr>\n",
       "  </tbody>\n",
       "</table>\n",
       "</div>"
      ],
      "text/plain": [
       "         rm    rf\n",
       "Date             \n",
       "2010  17.49  0.12\n",
       "2011   0.48  0.04\n",
       "2012  16.34  0.06\n",
       "2013  35.22  0.02\n",
       "2014  11.72  0.02"
      ]
     },
     "execution_count": 57,
     "metadata": {},
     "output_type": "execute_result"
    }
   ],
   "source": [
    "from pandas_datareader.famafrench import get_available_datasets\n",
    "import pandas_datareader.data as web\n",
    "len(get_available_datasets())\n",
    "ff = web.DataReader('F-F_Research_Data_factors', 'famafrench')[1]\n",
    "ff.columns = ['xsm', 'smb', 'hml', 'rf']\n",
    "ff['rm'] = ff['xsm'] + ff['rf']\n",
    "ff = ff[['rm', 'rf']]               # extract rm (market) and rf (riskfree)\n",
    "ff.head(5)\n"
   ]
  },
  {
   "cell_type": "code",
   "execution_count": 49,
   "metadata": {
    "collapsed": false
   },
   "outputs": [
    {
     "name": "stdout",
     "output_type": "stream",
     "text": [
      "          gdp      pce\n",
      "2003  13271.1   8867.6\n",
      "2004  13773.5   9208.2\n",
      "2005  14234.2   9531.8\n",
      "2006  14613.8   9821.7\n",
      "2007  14873.7  10041.6\n",
      "2008  14830.4  10007.2\n",
      "2009  14418.7   9847.0\n",
      "2010  14783.8  10036.3\n",
      "2011  15020.6  10263.5\n",
      "2012  15369.2  10449.7\n",
      "2013  15710.3  10699.7\n"
     ]
    }
   ],
   "source": [
    "gdp  = [13271.1, 13773.5, 14234.2, 14613.8, 14873.7, 14830.4, 14418.7,\n",
    "        14783.8, 15020.6, 15369.2, 15710.3]\n",
    "pce  = [8867.6, 9208.2, 9531.8, 9821.7, 10041.6, 10007.2, 9847.0, 10036.3,\n",
    "        10263.5, 10449.7, 10699.7]\n",
    "year = list(range(2003,2014))        # use range for years 2003-2013\n",
    "\n",
    "# Note that we set the index\n",
    "us = pd.DataFrame({'gdp': gdp, 'pce': pce}, index=year)\n",
    "print(us)"
   ]
  },
  {
   "cell_type": "code",
   "execution_count": 50,
   "metadata": {
    "collapsed": false
   },
   "outputs": [
    {
     "data": {
      "text/plain": [
       "<matplotlib.axes._subplots.AxesSubplot at 0x1169f6b00>"
      ]
     },
     "execution_count": 50,
     "metadata": {},
     "output_type": "execute_result"
    },
    {
     "data": {
      "image/png": "[encoded data removed]",
      "text/plain": [
       "<matplotlib.figure.Figure at 0x12711ee48>"
      ]
     },
     "metadata": {},
     "output_type": "display_data"
    }
   ],
   "source": [
    "us.plot()"
   ]
  },
  {
   "cell_type": "code",
   "execution_count": 51,
   "metadata": {
    "collapsed": false
   },
   "outputs": [
    {
     "data": {
      "image/png": "[encoded data removed]",
      "text/plain": [
       "<matplotlib.figure.Figure at 0x1270f1f98>"
      ]
     },
     "metadata": {},
     "output_type": "display_data"
    }
   ],
   "source": [
    "import matplotlib.pyplot as plt \n",
    "fig, ax = plt.subplots() #Create fig and ax objects\n",
    "\n"
   ]
  },
  {
   "cell_type": "code",
   "execution_count": 53,
   "metadata": {
    "collapsed": false
   },
   "outputs": [
    {
     "data": {
      "text/plain": [
       "<matplotlib.axes._subplots.AxesSubplot at 0x117579198>"
      ]
     },
     "execution_count": 53,
     "metadata": {},
     "output_type": "execute_result"
    },
    {
     "data": {
      "image/png": "[encoded data removed]",
      "text/plain": [
       "<matplotlib.figure.Figure at 0x11757d0b8>"
      ]
     },
     "metadata": {},
     "output_type": "display_data"
    }
   ],
   "source": [
    "fig, axe = plt.subplots()\n",
    "us.plot(ax = axe) #ax = look for axis object, axe is it \n"
   ]
  },
  {
   "cell_type": "code",
   "execution_count": 56,
   "metadata": {
    "collapsed": false
   },
   "outputs": [
    {
     "data": {
      "text/plain": [
       "<matplotlib.axes._subplots.AxesSubplot at 0x11777b438>"
      ]
     },
     "execution_count": 56,
     "metadata": {},
     "output_type": "execute_result"
    },
    {
     "data": {
      "image/png": "[encoded data removed]",
      "text/plain": [
       "<matplotlib.figure.Figure at 0x117b3be48>"
      ]
     },
     "metadata": {},
     "output_type": "display_data"
    }
   ],
   "source": [
    "fig, ax = plt.subplots()\n",
    "us.plot(ax=ax,\n",
    "        kind='line',                 # line plot\n",
    "        color=['blue', 'magenta'],   # line color\n",
    "        title='Fama-French market and riskfree returns')"
   ]
  },
  {
   "cell_type": "code",
   "execution_count": null,
   "metadata": {
    "collapsed": true
   },
   "outputs": [],
   "source": []
  }
 ],
 "metadata": {
  "kernelspec": {
   "display_name": "Python 3",
   "language": "python",
   "name": "python3"
  },
  "language_info": {
   "codemirror_mode": {
    "name": "ipython",
    "version": 3
   },
   "file_extension": ".py",
   "mimetype": "text/x-python",
   "name": "python",
   "nbconvert_exporter": "python",
   "pygments_lexer": "ipython3",
   "version": "3.6.0"
  }
 },
 "nbformat": 4,
 "nbformat_minor": 2
}
